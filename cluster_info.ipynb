{
 "cells": [
  {
   "cell_type": "markdown",
   "id": "5dd01d77",
   "metadata": {},
   "source": [
    "### 新版"
   ]
  },
  {
   "cell_type": "code",
   "execution_count": null,
   "id": "c5ff1bc3",
   "metadata": {},
   "outputs": [
    {
     "data": {
      "text/html": [
       "<div>\n",
       "<style scoped>\n",
       "    .dataframe tbody tr th:only-of-type {\n",
       "        vertical-align: middle;\n",
       "    }\n",
       "\n",
       "    .dataframe tbody tr th {\n",
       "        vertical-align: top;\n",
       "    }\n",
       "\n",
       "    .dataframe thead th {\n",
       "        text-align: right;\n",
       "    }\n",
       "</style>\n",
       "<table border=\"1\" class=\"dataframe\">\n",
       "  <thead>\n",
       "    <tr style=\"text-align: right;\">\n",
       "      <th></th>\n",
       "      <th>average_product_view_mean</th>\n",
       "      <th>average_product view_max</th>\n",
       "      <th>session_count_mean</th>\n",
       "      <th>session_count_median</th>\n",
       "      <th>session_product_count</th>\n",
       "      <th>buy_addCart_ratio</th>\n",
       "      <th>view_to_buy_duration_median</th>\n",
       "      <th>add_to_buy_duration_median</th>\n",
       "      <th>view_to_add_duration_median</th>\n",
       "      <th>dicount_sensitivity</th>\n",
       "      <th>come_back</th>\n",
       "      <th>purchase_randomess</th>\n",
       "    </tr>\n",
       "    <tr>\n",
       "      <th>cluster</th>\n",
       "      <th></th>\n",
       "      <th></th>\n",
       "      <th></th>\n",
       "      <th></th>\n",
       "      <th></th>\n",
       "      <th></th>\n",
       "      <th></th>\n",
       "      <th></th>\n",
       "      <th></th>\n",
       "      <th></th>\n",
       "      <th></th>\n",
       "      <th></th>\n",
       "    </tr>\n",
       "  </thead>\n",
       "  <tbody>\n",
       "    <tr>\n",
       "      <th>0</th>\n",
       "      <td>7.134347e+05</td>\n",
       "      <td>9.267337e+06</td>\n",
       "      <td>14.454003</td>\n",
       "      <td>7.123213</td>\n",
       "      <td>3.516857</td>\n",
       "      <td>0.610407</td>\n",
       "      <td>3.156814e+05</td>\n",
       "      <td>2.146243e+05</td>\n",
       "      <td>1.803427e+04</td>\n",
       "      <td>0.328761</td>\n",
       "      <td>1.545431</td>\n",
       "      <td>259.282697</td>\n",
       "    </tr>\n",
       "    <tr>\n",
       "      <th>1</th>\n",
       "      <td>7.128817e+04</td>\n",
       "      <td>9.384619e+05</td>\n",
       "      <td>14.042378</td>\n",
       "      <td>6.792853</td>\n",
       "      <td>3.713080</td>\n",
       "      <td>0.814306</td>\n",
       "      <td>9.255551e+04</td>\n",
       "      <td>8.638788e+04</td>\n",
       "      <td>-1.081361e+04</td>\n",
       "      <td>0.430639</td>\n",
       "      <td>1.253818</td>\n",
       "      <td>125.327720</td>\n",
       "    </tr>\n",
       "    <tr>\n",
       "      <th>2</th>\n",
       "      <td>1.178342e+05</td>\n",
       "      <td>1.487973e+06</td>\n",
       "      <td>48.716375</td>\n",
       "      <td>37.351431</td>\n",
       "      <td>19.428328</td>\n",
       "      <td>0.776994</td>\n",
       "      <td>5.348072e+04</td>\n",
       "      <td>7.310338e+04</td>\n",
       "      <td>-1.632186e+04</td>\n",
       "      <td>0.863579</td>\n",
       "      <td>1.168387</td>\n",
       "      <td>164.047080</td>\n",
       "    </tr>\n",
       "    <tr>\n",
       "      <th>3</th>\n",
       "      <td>2.407970e+06</td>\n",
       "      <td>9.343165e+06</td>\n",
       "      <td>11.846030</td>\n",
       "      <td>7.205452</td>\n",
       "      <td>2.756901</td>\n",
       "      <td>0.834732</td>\n",
       "      <td>5.868189e+06</td>\n",
       "      <td>4.271291e+06</td>\n",
       "      <td>1.209960e+06</td>\n",
       "      <td>0.424558</td>\n",
       "      <td>1.791370</td>\n",
       "      <td>122.901560</td>\n",
       "    </tr>\n",
       "  </tbody>\n",
       "</table>\n",
       "</div>"
      ],
      "text/plain": [
       "         average_product_view_mean  average_product view_max  \\\n",
       "cluster                                                        \n",
       "0                     7.134347e+05              9.267337e+06   \n",
       "1                     7.128817e+04              9.384619e+05   \n",
       "2                     1.178342e+05              1.487973e+06   \n",
       "3                     2.407970e+06              9.343165e+06   \n",
       "\n",
       "         session_count_mean  session_count_median  session_product_count  \\\n",
       "cluster                                                                    \n",
       "0                 14.454003              7.123213               3.516857   \n",
       "1                 14.042378              6.792853               3.713080   \n",
       "2                 48.716375             37.351431              19.428328   \n",
       "3                 11.846030              7.205452               2.756901   \n",
       "\n",
       "         buy_addCart_ratio  view_to_buy_duration_median  \\\n",
       "cluster                                                   \n",
       "0                 0.610407                 3.156814e+05   \n",
       "1                 0.814306                 9.255551e+04   \n",
       "2                 0.776994                 5.348072e+04   \n",
       "3                 0.834732                 5.868189e+06   \n",
       "\n",
       "         add_to_buy_duration_median  view_to_add_duration_median  \\\n",
       "cluster                                                            \n",
       "0                      2.146243e+05                 1.803427e+04   \n",
       "1                      8.638788e+04                -1.081361e+04   \n",
       "2                      7.310338e+04                -1.632186e+04   \n",
       "3                      4.271291e+06                 1.209960e+06   \n",
       "\n",
       "         dicount_sensitivity  come_back  purchase_randomess  \n",
       "cluster                                                      \n",
       "0                   0.328761   1.545431          259.282697  \n",
       "1                   0.430639   1.253818          125.327720  \n",
       "2                   0.863579   1.168387          164.047080  \n",
       "3                   0.424558   1.791370          122.901560  "
      ]
     },
     "metadata": {},
     "output_type": "display_data"
    },
    {
     "data": {
      "text/html": [
       "<div>\n",
       "<style scoped>\n",
       "    .dataframe tbody tr th:only-of-type {\n",
       "        vertical-align: middle;\n",
       "    }\n",
       "\n",
       "    .dataframe tbody tr th {\n",
       "        vertical-align: top;\n",
       "    }\n",
       "\n",
       "    .dataframe thead th {\n",
       "        text-align: right;\n",
       "    }\n",
       "</style>\n",
       "<table border=\"1\" class=\"dataframe\">\n",
       "  <thead>\n",
       "    <tr style=\"text-align: right;\">\n",
       "      <th></th>\n",
       "      <th>average_product_view_mean</th>\n",
       "      <th>average_product view_max</th>\n",
       "      <th>session_count_mean</th>\n",
       "      <th>session_count_median</th>\n",
       "      <th>session_product_count</th>\n",
       "      <th>buy_addCart_ratio</th>\n",
       "      <th>view_to_buy_duration_median</th>\n",
       "      <th>add_to_buy_duration_median</th>\n",
       "      <th>view_to_add_duration_median</th>\n",
       "      <th>dicount_sensitivity</th>\n",
       "      <th>come_back</th>\n",
       "      <th>purchase_randomess</th>\n",
       "    </tr>\n",
       "    <tr>\n",
       "      <th>cluster</th>\n",
       "      <th></th>\n",
       "      <th></th>\n",
       "      <th></th>\n",
       "      <th></th>\n",
       "      <th></th>\n",
       "      <th></th>\n",
       "      <th></th>\n",
       "      <th></th>\n",
       "      <th></th>\n",
       "      <th></th>\n",
       "      <th></th>\n",
       "      <th></th>\n",
       "    </tr>\n",
       "  </thead>\n",
       "  <tbody>\n",
       "    <tr>\n",
       "      <th>0</th>\n",
       "      <td>0.536536</td>\n",
       "      <td>1.221879</td>\n",
       "      <td>-0.094440</td>\n",
       "      <td>-0.108596</td>\n",
       "      <td>-0.156132</td>\n",
       "      <td>-0.242796</td>\n",
       "      <td>-0.010324</td>\n",
       "      <td>-0.031425</td>\n",
       "      <td>-0.023376</td>\n",
       "      <td>-0.145231</td>\n",
       "      <td>0.488735</td>\n",
       "      <td>0.319785</td>\n",
       "    </tr>\n",
       "    <tr>\n",
       "      <th>1</th>\n",
       "      <td>-0.369825</td>\n",
       "      <td>-0.611217</td>\n",
       "      <td>-0.134461</td>\n",
       "      <td>-0.146558</td>\n",
       "      <td>-0.112883</td>\n",
       "      <td>0.107321</td>\n",
       "      <td>-0.188895</td>\n",
       "      <td>-0.156899</td>\n",
       "      <td>-0.061839</td>\n",
       "      <td>0.024081</td>\n",
       "      <td>-0.255551</td>\n",
       "      <td>-0.145527</td>\n",
       "    </tr>\n",
       "    <tr>\n",
       "      <th>2</th>\n",
       "      <td>-0.304127</td>\n",
       "      <td>-0.490275</td>\n",
       "      <td>3.236797</td>\n",
       "      <td>3.364956</td>\n",
       "      <td>3.350880</td>\n",
       "      <td>0.043251</td>\n",
       "      <td>-0.224714</td>\n",
       "      <td>-0.173613</td>\n",
       "      <td>-0.071431</td>\n",
       "      <td>0.743590</td>\n",
       "      <td>-0.473595</td>\n",
       "      <td>-0.014996</td>\n",
       "    </tr>\n",
       "    <tr>\n",
       "      <th>3</th>\n",
       "      <td>2.928294</td>\n",
       "      <td>1.238568</td>\n",
       "      <td>-0.348006</td>\n",
       "      <td>-0.099146</td>\n",
       "      <td>-0.323632</td>\n",
       "      <td>0.142395</td>\n",
       "      <td>4.630599</td>\n",
       "      <td>4.073077</td>\n",
       "      <td>1.726923</td>\n",
       "      <td>0.013974</td>\n",
       "      <td>1.116445</td>\n",
       "      <td>-0.150855</td>\n",
       "    </tr>\n",
       "  </tbody>\n",
       "</table>\n",
       "</div>"
      ],
      "text/plain": [
       "         average_product_view_mean  average_product view_max  \\\n",
       "cluster                                                        \n",
       "0                         0.536536                  1.221879   \n",
       "1                        -0.369825                 -0.611217   \n",
       "2                        -0.304127                 -0.490275   \n",
       "3                         2.928294                  1.238568   \n",
       "\n",
       "         session_count_mean  session_count_median  session_product_count  \\\n",
       "cluster                                                                    \n",
       "0                 -0.094440             -0.108596              -0.156132   \n",
       "1                 -0.134461             -0.146558              -0.112883   \n",
       "2                  3.236797              3.364956               3.350880   \n",
       "3                 -0.348006             -0.099146              -0.323632   \n",
       "\n",
       "         buy_addCart_ratio  view_to_buy_duration_median  \\\n",
       "cluster                                                   \n",
       "0                -0.242796                    -0.010324   \n",
       "1                 0.107321                    -0.188895   \n",
       "2                 0.043251                    -0.224714   \n",
       "3                 0.142395                     4.630599   \n",
       "\n",
       "         add_to_buy_duration_median  view_to_add_duration_median  \\\n",
       "cluster                                                            \n",
       "0                         -0.031425                    -0.023376   \n",
       "1                         -0.156899                    -0.061839   \n",
       "2                         -0.173613                    -0.071431   \n",
       "3                          4.073077                     1.726923   \n",
       "\n",
       "         dicount_sensitivity  come_back  purchase_randomess  \n",
       "cluster                                                      \n",
       "0                  -0.145231   0.488735            0.319785  \n",
       "1                   0.024081  -0.255551           -0.145527  \n",
       "2                   0.743590  -0.473595           -0.014996  \n",
       "3                   0.013974   1.116445           -0.150855  "
      ]
     },
     "metadata": {},
     "output_type": "display_data"
    }
   ],
   "source": [
    "# 看各個群的平均值\n",
    "cluster_summary = X_noinf.copy()  # X_scaled_df\n",
    "cluster_summary['cluster'] = member_df['cluster']\n",
    "group_means = cluster_summary.groupby('cluster').mean()\n",
    "\n",
    "display(group_means)\n",
    "\n",
    "cluster_summary = X_scaled_df.copy()  # \n",
    "cluster_summary['cluster'] = member_df['cluster']\n",
    "group_means = cluster_summary.groupby('cluster').mean()\n",
    "\n",
    "display(group_means)"
   ]
  },
  {
   "cell_type": "markdown",
   "id": "21316d28",
   "metadata": {},
   "source": [
    "### 舊版"
   ]
  },
  {
   "cell_type": "code",
   "execution_count": null,
   "id": "0b938749",
   "metadata": {},
   "outputs": [],
   "source": [
    "# 看各個群的平均值\n",
    "cluster_summary = X_noinf.copy()  # X_scaled_df\n",
    "cluster_summary['cluster'] = member_df['cluster']\n",
    "group_means = cluster_summary.groupby('cluster').mean()\n",
    "\n",
    "display(group_means)\n",
    "\n",
    "cluster_summary = X_scaled_df.copy()  # \n",
    "cluster_summary['cluster'] = member_df['cluster']\n",
    "group_means = cluster_summary.groupby('cluster').mean()\n",
    "\n",
    "display(group_means)"
   ]
  },
  {
   "cell_type": "markdown",
   "id": "a555038a",
   "metadata": {},
   "source": [
    "### 新版"
   ]
  },
  {
   "cell_type": "code",
   "execution_count": null,
   "id": "737899cc",
   "metadata": {},
   "outputs": [
    {
     "name": "stdout",
     "output_type": "stream",
     "text": [
      "cluster\n",
      "1    16790\n",
      "0     8043\n",
      "2     1013\n",
      "3      752\n",
      "Name: count, dtype: int64\n"
     ]
    },
    {
     "data": {
      "text/plain": [
       "<Axes: title={'center': 'Cluster Distribution'}, xlabel='cluster'>"
      ]
     },
     "metadata": {},
     "output_type": "display_data"
    },
    {
     "data": {
      "image/png": "[encoded data removed]",
      "text/plain": [
       "<Figure size 432x288 with 1 Axes>"
      ]
     },
     "metadata": {},
     "output_type": "display_data"
    }
   ],
   "source": [
    "print(member_df['cluster'].value_counts())\n",
    "member_df['cluster'].value_counts().plot(kind='bar', title='Cluster Distribution')"
   ]
  },
  {
   "cell_type": "code",
   "execution_count": null,
   "id": "cf3078d9",
   "metadata": {},
   "outputs": [
    {
     "data": {
      "image/png": "[encoded data removed]",
      "text/plain": [
       "<Figure size 576x432 with 1 Axes>"
      ]
     },
     "metadata": {},
     "output_type": "display_data"
    }
   ],
   "source": [
    "# PCA, t-SNE 視覺化\n",
    "from sklearn.decomposition import PCA\n",
    "import matplotlib.pyplot as plt\n",
    "\n",
    "pca = PCA(n_components=2)\n",
    "pca_result = pca.fit_transform(X_scaled_df)\n",
    "\n",
    "plt.figure(figsize=(8,6))\n",
    "for cluster_id in sorted(member_df['cluster'].unique()):\n",
    "    plt.scatter(\n",
    "        pca_result[member_df['cluster'] == cluster_id, 0],\n",
    "        pca_result[member_df['cluster'] == cluster_id, 1],\n",
    "        label=f'Cluster {cluster_id}',\n",
    "        alpha=0.7\n",
    "    )\n",
    "plt.title('PCA 2D 視覺化')\n",
    "plt.xlabel('PC1')\n",
    "plt.ylabel('PC2')\n",
    "plt.legend()\n",
    "plt.show()\n"
   ]
  },
  {
   "cell_type": "markdown",
   "id": "3386ce0b",
   "metadata": {},
   "source": [
    "### 舊版"
   ]
  },
  {
   "cell_type": "code",
   "execution_count": null,
   "id": "ada83ea0",
   "metadata": {},
   "outputs": [
    {
     "name": "stdout",
     "output_type": "stream",
     "text": [
      "cluster\n",
      "3    16694\n",
      "0     8147\n",
      "2      990\n",
      "1      767\n",
      "Name: count, dtype: int64\n"
     ]
    },
    {
     "data": {
      "text/plain": [
       "<Axes: title={'center': 'Cluster Distribution'}, xlabel='cluster'>"
      ]
     },
     "metadata": {},
     "output_type": "display_data"
    },
    {
     "data": {
      "image/png": "[encoded data removed]",
      "text/plain": [
       "<Figure size 432x288 with 1 Axes>"
      ]
     },
     "metadata": {},
     "output_type": "display_data"
    }
   ],
   "source": [
    "print(member_df['cluster'].value_counts())\n",
    "member_df['cluster'].value_counts().plot(kind='bar', title='Cluster Distribution')"
   ]
  },
  {
   "cell_type": "code",
   "execution_count": null,
   "id": "6fdaf3d5",
   "metadata": {},
   "outputs": [
    {
     "data": {
      "image/png": "[encoded data removed]",
      "text/plain": [
       "<Figure size 576x432 with 1 Axes>"
      ]
     },
     "metadata": {},
     "output_type": "display_data"
    }
   ],
   "source": [
    "# PCA, t-SNE 視覺化\n",
    "from sklearn.decomposition import PCA\n",
    "import matplotlib.pyplot as plt\n",
    "\n",
    "pca = PCA(n_components=2)\n",
    "pca_result = pca.fit_transform(X_scaled_df)\n",
    "\n",
    "plt.figure(figsize=(8,6))\n",
    "for cluster_id in sorted(member_df['cluster'].unique()):\n",
    "    plt.scatter(\n",
    "        pca_result[member_df['cluster'] == cluster_id, 0],\n",
    "        pca_result[member_df['cluster'] == cluster_id, 1],\n",
    "        label=f'Cluster {cluster_id}',\n",
    "        alpha=0.7\n",
    "    )\n",
    "plt.title('PCA 2D 視覺化')\n",
    "plt.xlabel('PC1')\n",
    "plt.ylabel('PC2')\n",
    "plt.legend()\n",
    "plt.show()\n"
   ]
  },
  {
   "cell_type": "markdown",
   "id": "65179de4",
   "metadata": {},
   "source": []
  }
 ],
 "metadata": {
  "language_info": {
   "name": "python"
  }
 },
 "nbformat": 4,
 "nbformat_minor": 5
}
